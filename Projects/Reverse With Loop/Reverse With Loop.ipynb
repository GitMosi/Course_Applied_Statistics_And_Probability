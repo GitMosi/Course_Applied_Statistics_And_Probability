{
 "cells": [
  {
   "cell_type": "code",
   "execution_count": 1,
   "metadata": {},
   "outputs": [
    {
     "name": "stdout",
     "output_type": "stream",
     "text": [
      "Enter your value: 123\n",
      "The original string is:  123\n",
      "The reverse string is 321\n"
     ]
    }
   ],
   "source": [
    "    def reverse_string(str):  \n",
    "        str1 = \"\"   # Declaring empty string to store the reversed string  \n",
    "        for i in str:  \n",
    "            str1 = i + str1  \n",
    "        return str1    # It will return the reverse string to the caller function  \n",
    "         \n",
    "    str = input(\"Enter your value: \")     \n",
    "    print(\"The original string is: \",str)  \n",
    "    print(\"The reverse string is\",reverse_string(str)) # Function call  "
   ]
  }
 ],
 "metadata": {
  "kernelspec": {
   "display_name": "Python 3",
   "language": "python",
   "name": "python3"
  },
  "language_info": {
   "codemirror_mode": {
    "name": "ipython",
    "version": 3
   },
   "file_extension": ".py",
   "mimetype": "text/x-python",
   "name": "python",
   "nbconvert_exporter": "python",
   "pygments_lexer": "ipython3",
   "version": "3.7.4"
  }
 },
 "nbformat": 4,
 "nbformat_minor": 2
}
